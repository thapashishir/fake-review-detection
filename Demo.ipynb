{
  "nbformat": 4,
  "nbformat_minor": 0,
  "metadata": {
    "colab": {
      "provenance": []
    },
    "kernelspec": {
      "name": "python3",
      "display_name": "Python 3"
    },
    "language_info": {
      "name": "python"
    }
  },
  "cells": [
    {
      "cell_type": "code",
      "source": [
        "import joblib\n",
        "import json\n",
        "import numpy as np"
      ],
      "metadata": {
        "id": "M81nsHOqAXTE"
      },
      "execution_count": null,
      "outputs": []
    },
    {
      "cell_type": "code",
      "source": [
        "from google.colab import drive\n",
        "drive.mount('/content/drive')"
      ],
      "metadata": {
        "colab": {
          "base_uri": "https://localhost:8080/"
        },
        "id": "46AFKTOxAdd0",
        "outputId": "eeed2cd3-6e40-4fb0-afec-8634069e951f"
      },
      "execution_count": null,
      "outputs": [
        {
          "output_type": "stream",
          "name": "stdout",
          "text": [
            "Mounted at /content/drive\n"
          ]
        }
      ]
    },
    {
      "cell_type": "code",
      "source": [
        "# Load the model\n",
        "svm_model_export_path = '/content/drive/My Drive/dataset/svm_model.pkl'\n",
        "svm_model = joblib.load(svm_model_export_path)\n",
        "\n",
        "test_data_export_path = '/content/drive/My Drive/dataset/test_data.json'\n",
        "# Load the x_test data from the saved JSON file\n",
        "with open(test_data_export_path, 'r') as f:\n",
        "    data = json.load(f)\n",
        "\n",
        "# Convert back to a NumPy array or pandas DataFrame (depending on your use case)\n",
        "x_test_loaded = np.array(data['x_test'])\n",
        "y_test_loaded = np.array(data['y_test'])\n",
        "\n",
        "# Make predictions\n",
        "predictions = svm_model.predict(x_test_loaded)\n",
        "\n",
        "# Optionally print or use predictions\n",
        "# print(predictions)"
      ],
      "metadata": {
        "id": "18DLg9fLAYnz"
      },
      "execution_count": null,
      "outputs": []
    },
    {
      "cell_type": "code",
      "execution_count": null,
      "metadata": {
        "colab": {
          "base_uri": "https://localhost:8080/"
        },
        "id": "FjOXf6FQ_bZV",
        "outputId": "5017cfa4-66f0-4fa5-af33-3c569df2b7a7"
      },
      "outputs": [
        {
          "output_type": "stream",
          "name": "stdout",
          "text": [
            "Accuracy: 0.9111\n",
            "Precision: 0.9112\n",
            "Recall: 0.9111\n",
            "F1-score: 0.9111\n"
          ]
        }
      ],
      "source": [
        "from sklearn.metrics import accuracy_score, precision_score, recall_score, f1_score, classification_report\n",
        "\n",
        "\n",
        "# Calculate metrics\n",
        "accuracy = accuracy_score(y_test_loaded, predictions)\n",
        "precision = precision_score(y_test_loaded, predictions, average='weighted')\n",
        "recall = recall_score(y_test_loaded, predictions, average='weighted')\n",
        "f1 = f1_score(y_test_loaded, predictions, average='weighted')\n",
        "\n",
        "# Print metrics\n",
        "print(f'Accuracy: {accuracy:.4f}')\n",
        "print(f'Precision: {precision:.4f}')\n",
        "print(f'Recall: {recall:.4f}')\n",
        "print(f'F1-score: {f1:.4f}')\n",
        "\n",
        "\n"
      ]
    }
  ]
}